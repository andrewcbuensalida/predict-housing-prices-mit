{
 "cells": [
  {
   "cell_type": "markdown",
   "metadata": {},
   "source": [
    "# Predicting Housing Prices\n",
    "\n",
    "**by Andrew Buensalida**"
   ]
  },
  {
   "cell_type": "markdown",
   "metadata": {},
   "source": [
    "# Index\n",
    "\n",
    "- [Abstract](#Abstract)\n",
    "- [1. Introduction](#1.-Introduction)\n",
    "- [2. The Data](#2.-The-Data)\n",
    "    - [2.1 Import the Data](#2.1-Import-the-Data)\n",
    "    - [2.2 Data Exploration](#2.2-Data-Exploration)\n",
    "    - [2.3 Data Preparation](#2.3-Data-Preparation)\n",
    "    - [2.4 Correlation](#2.4-Correlation)\n",
    "- [3. Project Description](#3.-Project-Description)\n",
    "    - [3.1 Linear Regression](#3.1-Linear-Regression)\n",
    "    - [3.2 Analysis](#3.2-Analysis)\n",
    "    - [3.3 Results](#3.3-Results)\n",
    "    - [3.4 Verify Your Model Against Test Data](#3.4-Verify-Your-Model-Against-Test-Data)\n",
    "- [Conclusion](#Conclusion)\n",
    "- [References](#References)"
   ]
  },
  {
   "cell_type": "markdown",
   "metadata": {},
   "source": [
    "[Back to top](#Index)\n",
    "\n",
    "\n",
    "##  Abstract\n",
    "\n",
    "In this project, I create 4 different regression models to predict housing prices\n",
    "\n"
   ]
  },
  {
   "cell_type": "markdown",
   "metadata": {},
   "source": [
    "[Back to top](#Index)\n",
    "\n",
    "\n",
    "## 1. Introduction\n",
    "\n",
    "- First I import data of house sale price and characteristics such as lot area, number of bedrooms, etc. from a csv file. \n",
    "- Second visualize the data to better understand it.\n",
    "- Third I get 20 records from the housing data. I get only numerical columns, then create a correlation matrix. I get the 2 columns that have the highest correlation to sale price. I use these columns to create a linear regression model. The score for this model is 0.75, meaning given the 2 variables, the model can explains 75% of the sale price. \n",
    "- Fourth, continuing with the previous model, I increase the number of records to 100, remove the columns that contain nulls, and increase the columns to 5. The score for the second model increased to 0.83.\n",
    "- Fifth, I tested the second model against data from jtest.csv. Against this data, the score is only 0.74.\n",
    "- Sixth, I removed columns that don't make sense, like categorical data such as month of sale and MSSubClass, an unnamed column, and the Id column. The score for this third model did not change from the second model.\n",
    "- Seventh, I increased the number of columns to be included in the model to 10. This increased the score to 0.85. I then tested it against jtest.csv and got a score of 0.75.\n"
   ]
  },
  {
   "cell_type": "markdown",
   "metadata": {},
   "source": [
    "[Back to top](#Index)\n",
    "\n",
    "## 2. The Data\n",
    "\n",
    "Here I use the pandas library to create dataframes, which are basically tables. I use numpy to get a number data type. I use matplotlib to create scatter plots and histograms."
   ]
  },
  {
   "cell_type": "markdown",
   "metadata": {},
   "source": [
    "[Back to top](#Index)\n",
    "\n",
    "### 2.1 Import the Data"
   ]
  },
  {
   "cell_type": "code",
   "execution_count": 2165,
   "metadata": {},
   "outputs": [
    {
     "name": "stdout",
     "output_type": "stream",
     "text": [
      "(100, 82)\n",
      "   Unnamed: 0  Id  MSSubClass MSZoning  LotFrontage  LotArea Street Alley  \\\n",
      "0           0   1          60       RL         65.0     8450   Pave   NaN   \n",
      "1           1   2          20       RL         80.0     9600   Pave   NaN   \n",
      "2           2   3          60       RL         68.0    11250   Pave   NaN   \n",
      "3           3   4          70       RL         60.0     9550   Pave   NaN   \n",
      "4           4   5          60       RL         84.0    14260   Pave   NaN   \n",
      "\n",
      "  LotShape LandContour  ... PoolArea PoolQC Fence MiscFeature MiscVal MoSold  \\\n",
      "0      Reg         Lvl  ...        0    NaN   NaN         NaN       0      2   \n",
      "1      Reg         Lvl  ...        0    NaN   NaN         NaN       0      5   \n",
      "2      IR1         Lvl  ...        0    NaN   NaN         NaN       0      9   \n",
      "3      IR1         Lvl  ...        0    NaN   NaN         NaN       0      2   \n",
      "4      IR1         Lvl  ...        0    NaN   NaN         NaN       0     12   \n",
      "\n",
      "  YrSold SaleType  SaleCondition  SalePrice  \n",
      "0   2008       WD         Normal     208500  \n",
      "1   2007       WD         Normal     181500  \n",
      "2   2008       WD         Normal     223500  \n",
      "3   2006       WD        Abnorml     140000  \n",
      "4   2008       WD         Normal     250000  \n",
      "\n",
      "[5 rows x 82 columns]\n"
     ]
    }
   ],
   "source": [
    "import pandas as pd\n",
    "import numpy as np\n",
    "import matplotlib.pyplot as plt\n",
    "\n",
    "\n",
    "# As for the data, it is downloaded from the MIT emeritus website. The data has 100 records of house sales, and 82 columns such as LotArea, Number of Bathrooms, etc.\n",
    "df = pd.read_csv('houseSmallData/houseSmallData.csv')\n",
    "print(df.shape)\n",
    "\n",
    "# For the first model, I use only 20 records.\n",
    "train = df.iloc[0:20,:]\n",
    "print(train.head())"
   ]
  },
  {
   "cell_type": "markdown",
   "metadata": {},
   "source": [
    "[Back to top](#Index)\n",
    "\n",
    "### 2.2 Data Exploration\n",
    "\n"
   ]
  },
  {
   "cell_type": "code",
   "execution_count": 2166,
   "metadata": {},
   "outputs": [
    {
     "data": {
      "text/plain": [
       "0     208500\n",
       "1     181500\n",
       "2     223500\n",
       "3     140000\n",
       "4     250000\n",
       "5     143000\n",
       "6     307000\n",
       "7     200000\n",
       "8     129900\n",
       "9     118000\n",
       "10    129500\n",
       "11    345000\n",
       "12    144000\n",
       "13    279500\n",
       "14    157000\n",
       "15    132000\n",
       "16    149000\n",
       "17     90000\n",
       "18    159000\n",
       "19    139000\n",
       "Name: SalePrice, dtype: int64"
      ]
     },
     "execution_count": 2166,
     "metadata": {},
     "output_type": "execute_result"
    }
   ],
   "source": [
    "# Investigate Sale Price to make sure there are no missing values.\n",
    "train['SalePrice']"
   ]
  },
  {
   "cell_type": "code",
   "execution_count": 2167,
   "metadata": {},
   "outputs": [
    {
     "data": {
      "text/plain": [
       "(array([1., 6., 5., 1., 2., 1., 1., 1., 1., 1.]),\n",
       " array([ 90000., 115500., 141000., 166500., 192000., 217500., 243000.,\n",
       "        268500., 294000., 319500., 345000.]),\n",
       " <BarContainer object of 10 artists>)"
      ]
     },
     "execution_count": 2167,
     "metadata": {},
     "output_type": "execute_result"
    },
    {
     "data": {
      "image/png": "[encoded data removed]",
      "text/plain": [
       "<Figure size 640x480 with 1 Axes>"
      ]
     },
     "metadata": {},
     "output_type": "display_data"
    }
   ],
   "source": [
    "# plot histogram of Sale Price\n",
    "plt.hist(train['SalePrice'])"
   ]
  },
  {
   "cell_type": "code",
   "execution_count": 2168,
   "metadata": {},
   "outputs": [
    {
     "data": {
      "text/plain": [
       "(20, 40)"
      ]
     },
     "execution_count": 2168,
     "metadata": {},
     "output_type": "execute_result"
    }
   ],
   "source": [
    "# select only numeric columns\n",
    "numeric = train.select_dtypes(include=[np.number])\n",
    "numeric.shape"
   ]
  },
  {
   "cell_type": "code",
   "execution_count": 2169,
   "metadata": {},
   "outputs": [],
   "source": [
    "# calculate correlation matrix\n",
    "corr = numeric.corr()"
   ]
  },
  {
   "cell_type": "code",
   "execution_count": 2170,
   "metadata": {},
   "outputs": [
    {
     "data": {
      "text/plain": [
       "SalePrice        1.000000\n",
       "OverallQual      0.807380\n",
       "MasVnrArea       0.788274\n",
       "FullBath         0.721954\n",
       "TotRmsAbvGrd     0.699634\n",
       "YearBuilt        0.699627\n",
       "YearRemodAdd     0.698731\n",
       "GarageArea       0.696998\n",
       "BedroomAbvGr     0.681291\n",
       "GrLivArea        0.676909\n",
       "TotalBsmtSF      0.651318\n",
       "GarageYrBlt      0.649557\n",
       "LotFrontage      0.606910\n",
       "WoodDeckSF       0.575730\n",
       "GarageCars       0.571377\n",
       "1stFlrSF         0.449307\n",
       "2ndFlrSF         0.419880\n",
       "BsmtFinSF1       0.400864\n",
       "Fireplaces       0.374814\n",
       "MoSold           0.328774\n",
       "LotArea          0.265787\n",
       "BsmtFullBath     0.222720\n",
       "BsmtUnfSF        0.174284\n",
       "OpenPorchSF      0.131968\n",
       "HalfBath         0.113692\n",
       "BsmtFinSF2       0.064627\n",
       "BsmtHalfBath     0.000794\n",
       "ScreenPorch     -0.128599\n",
       "3SsnPorch       -0.132049\n",
       "EnclosedPorch   -0.182838\n",
       "MSSubClass      -0.199414\n",
       "OverallCond     -0.260414\n",
       "YrSold          -0.262237\n",
       "MiscVal         -0.283727\n",
       "Id              -0.298403\n",
       "Unnamed: 0      -0.298403\n",
       "KitchenAbvGr    -0.433657\n",
       "LowQualFinSF          NaN\n",
       "PoolArea              NaN\n",
       "PoolQC                NaN\n",
       "Name: SalePrice, dtype: float64"
      ]
     },
     "execution_count": 2170,
     "metadata": {},
     "output_type": "execute_result"
    }
   ],
   "source": [
    "# What are the top 3 columns correlated with Sale Price?\n",
    "\n",
    "cols = corr['SalePrice'].sort_values(ascending=False)[0:3].index\n",
    "corr[\"SalePrice\"].sort_values(ascending=False)[:]"
   ]
  },
  {
   "cell_type": "code",
   "execution_count": 2171,
   "metadata": {},
   "outputs": [],
   "source": [
    "# Pick out the x and y columns\n",
    "X = train[cols[1:]]\n",
    "Y = train['SalePrice']\n"
   ]
  },
  {
   "cell_type": "code",
   "execution_count": 2172,
   "metadata": {},
   "outputs": [
    {
     "name": "stdout",
     "output_type": "stream",
     "text": [
      "R^2 is : 0.7501993255220817\n"
     ]
    }
   ],
   "source": [
    "# build regression model\n",
    "\n",
    "from sklearn import linear_model\n",
    "lr = linear_model.LinearRegression()\n",
    "model = lr.fit(X, Y)\n",
    "predictions = model.predict(X)\n",
    "\n",
    "print(\n",
    "    f\"R^2 is : {model.score(X,Y)}\"\n",
    ")  # mean accuracy score of the model. R^2. How much of the sales price is explained by the 2 independent variables OverallQual and MasVnrArea"
   ]
  },
  {
   "cell_type": "code",
   "execution_count": 2173,
   "metadata": {},
   "outputs": [
    {
     "data": {
      "text/plain": [
       "<matplotlib.collections.PathCollection at 0x1621f83ba10>"
      ]
     },
     "execution_count": 2173,
     "metadata": {},
     "output_type": "execute_result"
    },
    {
     "data": {
      "image/png": "[encoded data removed]",
      "text/plain": [
       "<Figure size 640x480 with 1 Axes>"
      ]
     },
     "metadata": {},
     "output_type": "display_data"
    }
   ],
   "source": [
    "# Scatter plot of the predictions against the actual values Y. It should be a straight line with a slope of 1\n",
    "plt.scatter(predictions, Y)"
   ]
  },
  {
   "cell_type": "markdown",
   "metadata": {},
   "source": [
    "[Back to top](#Index)\n",
    "\n",
    "### 2.3 Data Preparation\n",
    "\n",
    "Now we improve the model by adding more data, dropping nulls, and considering more columns, 5 instead of 2.\n"
   ]
  },
  {
   "cell_type": "markdown",
   "metadata": {},
   "source": [
    "#### Improving the model"
   ]
  },
  {
   "cell_type": "code",
   "execution_count": 2174,
   "metadata": {},
   "outputs": [
    {
     "name": "stdout",
     "output_type": "stream",
     "text": [
      "   Unnamed: 0  Id  MSSubClass MSZoning  LotFrontage  LotArea Street Alley  \\\n",
      "0           0   1          60       RL         65.0     8450   Pave   NaN   \n",
      "1           1   2          20       RL         80.0     9600   Pave   NaN   \n",
      "2           2   3          60       RL         68.0    11250   Pave   NaN   \n",
      "3           3   4          70       RL         60.0     9550   Pave   NaN   \n",
      "4           4   5          60       RL         84.0    14260   Pave   NaN   \n",
      "\n",
      "  LotShape LandContour  ... PoolArea PoolQC Fence MiscFeature MiscVal MoSold  \\\n",
      "0      Reg         Lvl  ...        0    NaN   NaN         NaN       0      2   \n",
      "1      Reg         Lvl  ...        0    NaN   NaN         NaN       0      5   \n",
      "2      IR1         Lvl  ...        0    NaN   NaN         NaN       0      9   \n",
      "3      IR1         Lvl  ...        0    NaN   NaN         NaN       0      2   \n",
      "4      IR1         Lvl  ...        0    NaN   NaN         NaN       0     12   \n",
      "\n",
      "  YrSold SaleType  SaleCondition  SalePrice  \n",
      "0   2008       WD         Normal     208500  \n",
      "1   2007       WD         Normal     181500  \n",
      "2   2008       WD         Normal     223500  \n",
      "3   2006       WD        Abnorml     140000  \n",
      "4   2008       WD         Normal     250000  \n",
      "\n",
      "[5 rows x 82 columns]\n"
     ]
    }
   ],
   "source": [
    "train_100 = df.iloc[0:100, :] # select more data, from 20 to 100 records\n",
    "print(train_100.head())"
   ]
  },
  {
   "cell_type": "code",
   "execution_count": 2175,
   "metadata": {},
   "outputs": [
    {
     "data": {
      "text/plain": [
       "count       100.000000\n",
       "mean     173820.660000\n",
       "std       72236.552886\n",
       "min       40000.000000\n",
       "25%      129362.500000\n",
       "50%      153750.000000\n",
       "75%      207750.000000\n",
       "max      438780.000000\n",
       "Name: SalePrice, dtype: float64"
      ]
     },
     "execution_count": 2175,
     "metadata": {},
     "output_type": "execute_result"
    }
   ],
   "source": [
    "# The mean and standard deviation is different between taking 20 records vs taking 100 records\n",
    "salePrice = train_100[\"SalePrice\"]\n",
    "salePrice.describe()"
   ]
  },
  {
   "cell_type": "code",
   "execution_count": 2176,
   "metadata": {},
   "outputs": [
    {
     "data": {
      "text/plain": [
       "(array([ 2., 17., 35., 17., 11.,  8.,  5.,  3.,  1.,  1.]),\n",
       " array([ 40000.,  79878., 119756., 159634., 199512., 239390., 279268.,\n",
       "        319146., 359024., 398902., 438780.]),\n",
       " <BarContainer object of 10 artists>)"
      ]
     },
     "execution_count": 2176,
     "metadata": {},
     "output_type": "execute_result"
    },
    {
     "data": {
      "image/png": "[encoded data removed]",
      "text/plain": [
       "<Figure size 640x480 with 1 Axes>"
      ]
     },
     "metadata": {},
     "output_type": "display_data"
    }
   ],
   "source": [
    "plt.hist(salePrice) # it is skewed to the left which looks like a log normal distribution"
   ]
  },
  {
   "cell_type": "code",
   "execution_count": 2177,
   "metadata": {},
   "outputs": [
    {
     "data": {
      "text/plain": [
       "(array([ 1.,  0.,  3.,  7., 21., 26., 18., 13.,  9.,  2.]),\n",
       " array([10.59663473, 10.8361466 , 11.07565847, 11.31517034, 11.55468221,\n",
       "        11.79419408, 12.03370595, 12.27321782, 12.51272969, 12.75224156,\n",
       "        12.99175343]),\n",
       " <BarContainer object of 10 artists>)"
      ]
     },
     "execution_count": 2177,
     "metadata": {},
     "output_type": "execute_result"
    },
    {
     "data": {
      "image/png": "[encoded data removed]",
      "text/plain": [
       "<Figure size 640x480 with 1 Axes>"
      ]
     },
     "metadata": {},
     "output_type": "display_data"
    }
   ],
   "source": [
    "plt.hist(np.log(salePrice)) # Getting the logarithm makes the distribution more normal"
   ]
  },
  {
   "cell_type": "code",
   "execution_count": 2178,
   "metadata": {},
   "outputs": [
    {
     "data": {
      "text/plain": [
       "1.1783462304851948"
      ]
     },
     "execution_count": 2178,
     "metadata": {},
     "output_type": "execute_result"
    }
   ],
   "source": [
    "salePrice.skew() # skewness of the original data"
   ]
  },
  {
   "cell_type": "code",
   "execution_count": 2179,
   "metadata": {},
   "outputs": [
    {
     "data": {
      "text/plain": [
       "-0.09632240207755555"
      ]
     },
     "execution_count": 2179,
     "metadata": {},
     "output_type": "execute_result"
    }
   ],
   "source": [
    "target = np.log(salePrice)\n",
    "np.log(salePrice).skew() # skewness of the log transformed data. It is closer to 0"
   ]
  },
  {
   "cell_type": "code",
   "execution_count": 2180,
   "metadata": {},
   "outputs": [
    {
     "data": {
      "text/plain": [
       "<matplotlib.collections.PathCollection at 0x1621f8dba10>"
      ]
     },
     "execution_count": 2180,
     "metadata": {},
     "output_type": "execute_result"
    },
    {
     "data": {
      "image/png": "[encoded data removed]",
      "text/plain": [
       "<Figure size 640x480 with 1 Axes>"
      ]
     },
     "metadata": {},
     "output_type": "display_data"
    }
   ],
   "source": [
    "plt.scatter(\n",
    "    train_100[\"GrLivArea\"], target\n",
    ")  # scatter plot of GrLivArea against the target. Since it looks like the slope is 1, it might be a good predictor"
   ]
  },
  {
   "cell_type": "code",
   "execution_count": 2181,
   "metadata": {},
   "outputs": [
    {
     "data": {
      "text/plain": [
       "<matplotlib.collections.PathCollection at 0x1621fa70f20>"
      ]
     },
     "execution_count": 2181,
     "metadata": {},
     "output_type": "execute_result"
    },
    {
     "data": {
      "image/png": "[encoded data removed]",
      "text/plain": [
       "<Figure size 640x480 with 1 Axes>"
      ]
     },
     "metadata": {},
     "output_type": "display_data"
    }
   ],
   "source": [
    "plt.scatter(\n",
    "    train_100[\"GarageArea\"], target\n",
    ")  # scatter plot of GarageArea against the target. It also looks like it is a good predictor"
   ]
  },
  {
   "cell_type": "code",
   "execution_count": 2182,
   "metadata": {},
   "outputs": [
    {
     "data": {
      "text/html": [
       "<div>\n",
       "<style scoped>\n",
       "    .dataframe tbody tr th:only-of-type {\n",
       "        vertical-align: middle;\n",
       "    }\n",
       "\n",
       "    .dataframe tbody tr th {\n",
       "        vertical-align: top;\n",
       "    }\n",
       "\n",
       "    .dataframe thead th {\n",
       "        text-align: right;\n",
       "    }\n",
       "</style>\n",
       "<table border=\"1\" class=\"dataframe\">\n",
       "  <thead>\n",
       "    <tr style=\"text-align: right;\">\n",
       "      <th></th>\n",
       "      <th>0</th>\n",
       "    </tr>\n",
       "  </thead>\n",
       "  <tbody>\n",
       "    <tr>\n",
       "      <th>PoolQC</th>\n",
       "      <td>100</td>\n",
       "    </tr>\n",
       "    <tr>\n",
       "      <th>Alley</th>\n",
       "      <td>94</td>\n",
       "    </tr>\n",
       "    <tr>\n",
       "      <th>MiscFeature</th>\n",
       "      <td>91</td>\n",
       "    </tr>\n",
       "    <tr>\n",
       "      <th>Fence</th>\n",
       "      <td>77</td>\n",
       "    </tr>\n",
       "    <tr>\n",
       "      <th>MasVnrType</th>\n",
       "      <td>60</td>\n",
       "    </tr>\n",
       "    <tr>\n",
       "      <th>...</th>\n",
       "      <td>...</td>\n",
       "    </tr>\n",
       "    <tr>\n",
       "      <th>MasVnrArea</th>\n",
       "      <td>0</td>\n",
       "    </tr>\n",
       "    <tr>\n",
       "      <th>Exterior2nd</th>\n",
       "      <td>0</td>\n",
       "    </tr>\n",
       "    <tr>\n",
       "      <th>Exterior1st</th>\n",
       "      <td>0</td>\n",
       "    </tr>\n",
       "    <tr>\n",
       "      <th>RoofMatl</th>\n",
       "      <td>0</td>\n",
       "    </tr>\n",
       "    <tr>\n",
       "      <th>SalePrice</th>\n",
       "      <td>0</td>\n",
       "    </tr>\n",
       "  </tbody>\n",
       "</table>\n",
       "<p>82 rows × 1 columns</p>\n",
       "</div>"
      ],
      "text/plain": [
       "               0\n",
       "PoolQC       100\n",
       "Alley         94\n",
       "MiscFeature   91\n",
       "Fence         77\n",
       "MasVnrType    60\n",
       "...          ...\n",
       "MasVnrArea     0\n",
       "Exterior2nd    0\n",
       "Exterior1st    0\n",
       "RoofMatl       0\n",
       "SalePrice      0\n",
       "\n",
       "[82 rows x 1 columns]"
      ]
     },
     "execution_count": 2182,
     "metadata": {},
     "output_type": "execute_result"
    }
   ],
   "source": [
    "# find the count of nulls in each column\n",
    "nulls = pd.DataFrame(train_100.isnull().sum().sort_values(ascending=False))\n",
    "nulls\n",
    "# Since PoolQC, MiscFeature, Alley, Fence, FireplaceQu have a lot of nulls, we can drop them"
   ]
  },
  {
   "cell_type": "code",
   "execution_count": 2183,
   "metadata": {},
   "outputs": [
    {
     "data": {
      "text/html": [
       "<div>\n",
       "<style scoped>\n",
       "    .dataframe tbody tr th:only-of-type {\n",
       "        vertical-align: middle;\n",
       "    }\n",
       "\n",
       "    .dataframe tbody tr th {\n",
       "        vertical-align: top;\n",
       "    }\n",
       "\n",
       "    .dataframe thead th {\n",
       "        text-align: right;\n",
       "    }\n",
       "</style>\n",
       "<table border=\"1\" class=\"dataframe\">\n",
       "  <thead>\n",
       "    <tr style=\"text-align: right;\">\n",
       "      <th></th>\n",
       "      <th>Unnamed: 0</th>\n",
       "      <th>Id</th>\n",
       "      <th>MSSubClass</th>\n",
       "      <th>LotFrontage</th>\n",
       "      <th>LotArea</th>\n",
       "      <th>OverallQual</th>\n",
       "      <th>OverallCond</th>\n",
       "      <th>YearBuilt</th>\n",
       "      <th>YearRemodAdd</th>\n",
       "      <th>MasVnrArea</th>\n",
       "      <th>...</th>\n",
       "      <th>WoodDeckSF</th>\n",
       "      <th>OpenPorchSF</th>\n",
       "      <th>EnclosedPorch</th>\n",
       "      <th>3SsnPorch</th>\n",
       "      <th>ScreenPorch</th>\n",
       "      <th>PoolArea</th>\n",
       "      <th>MiscVal</th>\n",
       "      <th>MoSold</th>\n",
       "      <th>YrSold</th>\n",
       "      <th>SalePrice</th>\n",
       "    </tr>\n",
       "  </thead>\n",
       "  <tbody>\n",
       "    <tr>\n",
       "      <th>0</th>\n",
       "      <td>0</td>\n",
       "      <td>1</td>\n",
       "      <td>60</td>\n",
       "      <td>65.0</td>\n",
       "      <td>8450</td>\n",
       "      <td>7</td>\n",
       "      <td>5</td>\n",
       "      <td>2003</td>\n",
       "      <td>2003</td>\n",
       "      <td>196.0</td>\n",
       "      <td>...</td>\n",
       "      <td>0</td>\n",
       "      <td>61</td>\n",
       "      <td>0</td>\n",
       "      <td>0</td>\n",
       "      <td>0</td>\n",
       "      <td>0</td>\n",
       "      <td>0</td>\n",
       "      <td>2</td>\n",
       "      <td>2008</td>\n",
       "      <td>208500</td>\n",
       "    </tr>\n",
       "    <tr>\n",
       "      <th>1</th>\n",
       "      <td>1</td>\n",
       "      <td>2</td>\n",
       "      <td>20</td>\n",
       "      <td>80.0</td>\n",
       "      <td>9600</td>\n",
       "      <td>6</td>\n",
       "      <td>8</td>\n",
       "      <td>1976</td>\n",
       "      <td>1976</td>\n",
       "      <td>0.0</td>\n",
       "      <td>...</td>\n",
       "      <td>298</td>\n",
       "      <td>0</td>\n",
       "      <td>0</td>\n",
       "      <td>0</td>\n",
       "      <td>0</td>\n",
       "      <td>0</td>\n",
       "      <td>0</td>\n",
       "      <td>5</td>\n",
       "      <td>2007</td>\n",
       "      <td>181500</td>\n",
       "    </tr>\n",
       "    <tr>\n",
       "      <th>2</th>\n",
       "      <td>2</td>\n",
       "      <td>3</td>\n",
       "      <td>60</td>\n",
       "      <td>68.0</td>\n",
       "      <td>11250</td>\n",
       "      <td>7</td>\n",
       "      <td>5</td>\n",
       "      <td>2001</td>\n",
       "      <td>2002</td>\n",
       "      <td>162.0</td>\n",
       "      <td>...</td>\n",
       "      <td>0</td>\n",
       "      <td>42</td>\n",
       "      <td>0</td>\n",
       "      <td>0</td>\n",
       "      <td>0</td>\n",
       "      <td>0</td>\n",
       "      <td>0</td>\n",
       "      <td>9</td>\n",
       "      <td>2008</td>\n",
       "      <td>223500</td>\n",
       "    </tr>\n",
       "    <tr>\n",
       "      <th>3</th>\n",
       "      <td>3</td>\n",
       "      <td>4</td>\n",
       "      <td>70</td>\n",
       "      <td>60.0</td>\n",
       "      <td>9550</td>\n",
       "      <td>7</td>\n",
       "      <td>5</td>\n",
       "      <td>1915</td>\n",
       "      <td>1970</td>\n",
       "      <td>0.0</td>\n",
       "      <td>...</td>\n",
       "      <td>0</td>\n",
       "      <td>35</td>\n",
       "      <td>272</td>\n",
       "      <td>0</td>\n",
       "      <td>0</td>\n",
       "      <td>0</td>\n",
       "      <td>0</td>\n",
       "      <td>2</td>\n",
       "      <td>2006</td>\n",
       "      <td>140000</td>\n",
       "    </tr>\n",
       "    <tr>\n",
       "      <th>4</th>\n",
       "      <td>4</td>\n",
       "      <td>5</td>\n",
       "      <td>60</td>\n",
       "      <td>84.0</td>\n",
       "      <td>14260</td>\n",
       "      <td>8</td>\n",
       "      <td>5</td>\n",
       "      <td>2000</td>\n",
       "      <td>2000</td>\n",
       "      <td>350.0</td>\n",
       "      <td>...</td>\n",
       "      <td>192</td>\n",
       "      <td>84</td>\n",
       "      <td>0</td>\n",
       "      <td>0</td>\n",
       "      <td>0</td>\n",
       "      <td>0</td>\n",
       "      <td>0</td>\n",
       "      <td>12</td>\n",
       "      <td>2008</td>\n",
       "      <td>250000</td>\n",
       "    </tr>\n",
       "    <tr>\n",
       "      <th>...</th>\n",
       "      <td>...</td>\n",
       "      <td>...</td>\n",
       "      <td>...</td>\n",
       "      <td>...</td>\n",
       "      <td>...</td>\n",
       "      <td>...</td>\n",
       "      <td>...</td>\n",
       "      <td>...</td>\n",
       "      <td>...</td>\n",
       "      <td>...</td>\n",
       "      <td>...</td>\n",
       "      <td>...</td>\n",
       "      <td>...</td>\n",
       "      <td>...</td>\n",
       "      <td>...</td>\n",
       "      <td>...</td>\n",
       "      <td>...</td>\n",
       "      <td>...</td>\n",
       "      <td>...</td>\n",
       "      <td>...</td>\n",
       "      <td>...</td>\n",
       "    </tr>\n",
       "    <tr>\n",
       "      <th>95</th>\n",
       "      <td>95</td>\n",
       "      <td>96</td>\n",
       "      <td>60</td>\n",
       "      <td>73.5</td>\n",
       "      <td>9765</td>\n",
       "      <td>6</td>\n",
       "      <td>8</td>\n",
       "      <td>1993</td>\n",
       "      <td>1993</td>\n",
       "      <td>68.0</td>\n",
       "      <td>...</td>\n",
       "      <td>232</td>\n",
       "      <td>63</td>\n",
       "      <td>0</td>\n",
       "      <td>0</td>\n",
       "      <td>0</td>\n",
       "      <td>0</td>\n",
       "      <td>480</td>\n",
       "      <td>4</td>\n",
       "      <td>2009</td>\n",
       "      <td>185000</td>\n",
       "    </tr>\n",
       "    <tr>\n",
       "      <th>96</th>\n",
       "      <td>96</td>\n",
       "      <td>97</td>\n",
       "      <td>20</td>\n",
       "      <td>78.0</td>\n",
       "      <td>10264</td>\n",
       "      <td>7</td>\n",
       "      <td>5</td>\n",
       "      <td>1999</td>\n",
       "      <td>1999</td>\n",
       "      <td>183.0</td>\n",
       "      <td>...</td>\n",
       "      <td>158</td>\n",
       "      <td>29</td>\n",
       "      <td>0</td>\n",
       "      <td>0</td>\n",
       "      <td>0</td>\n",
       "      <td>0</td>\n",
       "      <td>0</td>\n",
       "      <td>8</td>\n",
       "      <td>2006</td>\n",
       "      <td>214000</td>\n",
       "    </tr>\n",
       "    <tr>\n",
       "      <th>97</th>\n",
       "      <td>97</td>\n",
       "      <td>98</td>\n",
       "      <td>20</td>\n",
       "      <td>73.0</td>\n",
       "      <td>10921</td>\n",
       "      <td>4</td>\n",
       "      <td>5</td>\n",
       "      <td>1965</td>\n",
       "      <td>1965</td>\n",
       "      <td>48.0</td>\n",
       "      <td>...</td>\n",
       "      <td>120</td>\n",
       "      <td>0</td>\n",
       "      <td>0</td>\n",
       "      <td>0</td>\n",
       "      <td>0</td>\n",
       "      <td>0</td>\n",
       "      <td>0</td>\n",
       "      <td>5</td>\n",
       "      <td>2007</td>\n",
       "      <td>94750</td>\n",
       "    </tr>\n",
       "    <tr>\n",
       "      <th>98</th>\n",
       "      <td>98</td>\n",
       "      <td>99</td>\n",
       "      <td>30</td>\n",
       "      <td>85.0</td>\n",
       "      <td>10625</td>\n",
       "      <td>5</td>\n",
       "      <td>5</td>\n",
       "      <td>1920</td>\n",
       "      <td>1950</td>\n",
       "      <td>0.0</td>\n",
       "      <td>...</td>\n",
       "      <td>0</td>\n",
       "      <td>0</td>\n",
       "      <td>77</td>\n",
       "      <td>0</td>\n",
       "      <td>0</td>\n",
       "      <td>0</td>\n",
       "      <td>400</td>\n",
       "      <td>5</td>\n",
       "      <td>2010</td>\n",
       "      <td>83000</td>\n",
       "    </tr>\n",
       "    <tr>\n",
       "      <th>99</th>\n",
       "      <td>99</td>\n",
       "      <td>100</td>\n",
       "      <td>20</td>\n",
       "      <td>77.0</td>\n",
       "      <td>9320</td>\n",
       "      <td>4</td>\n",
       "      <td>5</td>\n",
       "      <td>1959</td>\n",
       "      <td>1959</td>\n",
       "      <td>0.0</td>\n",
       "      <td>...</td>\n",
       "      <td>352</td>\n",
       "      <td>0</td>\n",
       "      <td>0</td>\n",
       "      <td>0</td>\n",
       "      <td>0</td>\n",
       "      <td>0</td>\n",
       "      <td>400</td>\n",
       "      <td>1</td>\n",
       "      <td>2010</td>\n",
       "      <td>128950</td>\n",
       "    </tr>\n",
       "  </tbody>\n",
       "</table>\n",
       "<p>100 rows × 39 columns</p>\n",
       "</div>"
      ],
      "text/plain": [
       "    Unnamed: 0   Id  MSSubClass  LotFrontage  LotArea  OverallQual  \\\n",
       "0            0    1          60         65.0     8450            7   \n",
       "1            1    2          20         80.0     9600            6   \n",
       "2            2    3          60         68.0    11250            7   \n",
       "3            3    4          70         60.0     9550            7   \n",
       "4            4    5          60         84.0    14260            8   \n",
       "..         ...  ...         ...          ...      ...          ...   \n",
       "95          95   96          60         73.5     9765            6   \n",
       "96          96   97          20         78.0    10264            7   \n",
       "97          97   98          20         73.0    10921            4   \n",
       "98          98   99          30         85.0    10625            5   \n",
       "99          99  100          20         77.0     9320            4   \n",
       "\n",
       "    OverallCond  YearBuilt  YearRemodAdd  MasVnrArea  ...  WoodDeckSF  \\\n",
       "0             5       2003          2003       196.0  ...           0   \n",
       "1             8       1976          1976         0.0  ...         298   \n",
       "2             5       2001          2002       162.0  ...           0   \n",
       "3             5       1915          1970         0.0  ...           0   \n",
       "4             5       2000          2000       350.0  ...         192   \n",
       "..          ...        ...           ...         ...  ...         ...   \n",
       "95            8       1993          1993        68.0  ...         232   \n",
       "96            5       1999          1999       183.0  ...         158   \n",
       "97            5       1965          1965        48.0  ...         120   \n",
       "98            5       1920          1950         0.0  ...           0   \n",
       "99            5       1959          1959         0.0  ...         352   \n",
       "\n",
       "    OpenPorchSF  EnclosedPorch  3SsnPorch  ScreenPorch  PoolArea  MiscVal  \\\n",
       "0            61              0          0            0         0        0   \n",
       "1             0              0          0            0         0        0   \n",
       "2            42              0          0            0         0        0   \n",
       "3            35            272          0            0         0        0   \n",
       "4            84              0          0            0         0        0   \n",
       "..          ...            ...        ...          ...       ...      ...   \n",
       "95           63              0          0            0         0      480   \n",
       "96           29              0          0            0         0        0   \n",
       "97            0              0          0            0         0        0   \n",
       "98            0             77          0            0         0      400   \n",
       "99            0              0          0            0         0      400   \n",
       "\n",
       "    MoSold  YrSold  SalePrice  \n",
       "0        2    2008     208500  \n",
       "1        5    2007     181500  \n",
       "2        9    2008     223500  \n",
       "3        2    2006     140000  \n",
       "4       12    2008     250000  \n",
       "..     ...     ...        ...  \n",
       "95       4    2009     185000  \n",
       "96       8    2006     214000  \n",
       "97       5    2007      94750  \n",
       "98       5    2010      83000  \n",
       "99       1    2010     128950  \n",
       "\n",
       "[100 rows x 39 columns]"
      ]
     },
     "execution_count": 2183,
     "metadata": {},
     "output_type": "execute_result"
    }
   ],
   "source": [
    "# remove the columns with 1 or more nulls\n",
    "numeric_dropna = train_100.select_dtypes(include=[np.number]).interpolate().dropna(axis=1)\n",
    "numeric_dropna"
   ]
  },
  {
   "cell_type": "markdown",
   "metadata": {},
   "source": [
    "[Back to top](#Index)\n",
    "\n",
    "### 2.4 Correlation\n",
    "\n",
    "The top 5 attributes of a house that predict sale price are:\n",
    "- OverallQual      0.855061\n",
    "- GrLivArea        0.735129\n",
    "- GarageArea       0.688249\n",
    "- GarageCars       0.663441\n",
    "- YearBuilt        0.658636\n",
    "\n",
    "Knowing this, we can include these 5 columns when we create the regression. We can get these top 5 columns with the code below. We use the corr() method of panda DataFrames."
   ]
  },
  {
   "cell_type": "code",
   "execution_count": 2184,
   "metadata": {},
   "outputs": [
    {
     "data": {
      "text/plain": [
       "SalePrice        1.000000\n",
       "OverallQual      0.855061\n",
       "GrLivArea        0.735129\n",
       "GarageArea       0.688249\n",
       "GarageCars       0.663441\n",
       "YearBuilt        0.658636\n",
       "TotalBsmtSF      0.616297\n",
       "GarageYrBlt      0.589361\n",
       "FullBath         0.579505\n",
       "MasVnrArea       0.571836\n",
       "TotRmsAbvGrd     0.553603\n",
       "1stFlrSF         0.550912\n",
       "YearRemodAdd     0.548330\n",
       "LotArea          0.497124\n",
       "Fireplaces       0.487907\n",
       "WoodDeckSF       0.451241\n",
       "2ndFlrSF         0.381076\n",
       "BsmtUnfSF        0.327020\n",
       "HalfBath         0.319304\n",
       "OpenPorchSF      0.301960\n",
       "LotFrontage      0.277853\n",
       "BsmtFinSF1       0.266713\n",
       "MoSold           0.256863\n",
       "BedroomAbvGr     0.233426\n",
       "BsmtFullBath     0.155689\n",
       "ScreenPorch      0.035930\n",
       "3SsnPorch       -0.019391\n",
       "BsmtHalfBath    -0.055100\n",
       "MSSubClass      -0.066819\n",
       "MiscVal         -0.134707\n",
       "BsmtFinSF2      -0.138126\n",
       "LowQualFinSF    -0.150027\n",
       "Id              -0.162735\n",
       "Unnamed: 0      -0.162735\n",
       "OverallCond     -0.170443\n",
       "EnclosedPorch   -0.233483\n",
       "KitchenAbvGr    -0.235659\n",
       "YrSold          -0.262683\n",
       "PoolArea              NaN\n",
       "Name: SalePrice, dtype: float64"
      ]
     },
     "execution_count": 2184,
     "metadata": {},
     "output_type": "execute_result"
    }
   ],
   "source": [
    "# Find correlation matrix\n",
    "corr_dropna = numeric_dropna.corr()\n",
    "# Find the top 5 columns correlated with Sale Price, instead of just 2 columns like in the first model.\n",
    "cols_dropna = (\n",
    "    corr_dropna[\"SalePrice\"].sort_values(ascending=False)[0:6].index\n",
    ")  # These 5 columns have above 0.6 correlation with Sale Price. It's 6 because SalePrice is still included.\n",
    "corr_dropna[\"SalePrice\"].sort_values(ascending=False)[:]"
   ]
  },
  {
   "cell_type": "markdown",
   "metadata": {},
   "source": [
    "\n",
    "[Back to top](#Index)\n",
    "\n",
    "## 3. Project Description\n",
    "\n",
    "As seen above, I have dropped null columns, added more records, and added more columns. Using this I will build a new model. After that, I will build a model with categorical columns dropped, then after that I will build another model with 10 columns factored in."
   ]
  },
  {
   "cell_type": "markdown",
   "metadata": {},
   "source": [
    "[Back to top](#Index)\n",
    "\n",
    "### 3.1 Linear Regression\n",
    "\n",
    "As seen in the first model, the code used to create the linear regression is\n",
    "\n",
    "```python\n",
    "  lr = linear_model.LinearRegression()\n",
    "  model = lr.fit(X, Y)\n",
    "```\n",
    "\n",
    "Then to predict Y given X,\n",
    "```python\n",
    "  predictions = model.predict(X)\n",
    "```\n",
    "\n",
    "Then to score the model\n",
    "```python\n",
    "  print(f\"R^2 is : {model.score(X,Y)}\")\n",
    "```"
   ]
  },
  {
   "cell_type": "markdown",
   "metadata": {},
   "source": [
    "The formula for multiple regression is:\n",
    "\n",
    "Y = β0 + β1*X1 + β2*X2 + ... + βn*Xn + ε\n",
    "\n",
    "Where:\n",
    "- Y is the dependent variable (the variable you want to predict)\n",
    "- X1, X2, ..., Xn are the independent variables (the variables used to predict Y)\n",
    "- β0 is the intercept (the value of Y when all independent variables are zero)\n",
    "- β1, β2, ..., βn are the regression coefficients (the estimated effect of each independent variable on Y)\n",
    "- ε is the error term (the difference between the predicted and actual values of Y)\n",
    "\n",
    "The goal of multiple regression is to estimate the values of the regression coefficients (β0, β1, β2, ..., βn) that minimize the sum of squared errors (SSE) between the predicted and actual values of Y. This is typically done using statistical techniques such as ordinary least squares (OLS) regression.\n",
    "\n",
    "Once the regression coefficients are estimated, you can use the formula to predict the value of Y for new observations by plugging in the values of the independent variables."
   ]
  },
  {
   "cell_type": "markdown",
   "metadata": {},
   "source": [
    "[Back to top](#Index)\n",
    "\n",
    "### 3.2 Analysis \n",
    "Continuing building a second model\n"
   ]
  },
  {
   "cell_type": "code",
   "execution_count": 2185,
   "metadata": {},
   "outputs": [
    {
     "data": {
      "text/html": [
       "<div>\n",
       "<style scoped>\n",
       "    .dataframe tbody tr th:only-of-type {\n",
       "        vertical-align: middle;\n",
       "    }\n",
       "\n",
       "    .dataframe tbody tr th {\n",
       "        vertical-align: top;\n",
       "    }\n",
       "\n",
       "    .dataframe thead th {\n",
       "        text-align: right;\n",
       "    }\n",
       "</style>\n",
       "<table border=\"1\" class=\"dataframe\">\n",
       "  <thead>\n",
       "    <tr style=\"text-align: right;\">\n",
       "      <th></th>\n",
       "      <th>OverallQual</th>\n",
       "      <th>GrLivArea</th>\n",
       "      <th>GarageArea</th>\n",
       "      <th>GarageCars</th>\n",
       "      <th>YearBuilt</th>\n",
       "    </tr>\n",
       "  </thead>\n",
       "  <tbody>\n",
       "    <tr>\n",
       "      <th>0</th>\n",
       "      <td>7</td>\n",
       "      <td>1710</td>\n",
       "      <td>548</td>\n",
       "      <td>2</td>\n",
       "      <td>2003</td>\n",
       "    </tr>\n",
       "    <tr>\n",
       "      <th>1</th>\n",
       "      <td>6</td>\n",
       "      <td>1262</td>\n",
       "      <td>460</td>\n",
       "      <td>2</td>\n",
       "      <td>1976</td>\n",
       "    </tr>\n",
       "    <tr>\n",
       "      <th>2</th>\n",
       "      <td>7</td>\n",
       "      <td>1786</td>\n",
       "      <td>608</td>\n",
       "      <td>2</td>\n",
       "      <td>2001</td>\n",
       "    </tr>\n",
       "    <tr>\n",
       "      <th>3</th>\n",
       "      <td>7</td>\n",
       "      <td>1717</td>\n",
       "      <td>642</td>\n",
       "      <td>3</td>\n",
       "      <td>1915</td>\n",
       "    </tr>\n",
       "    <tr>\n",
       "      <th>4</th>\n",
       "      <td>8</td>\n",
       "      <td>2198</td>\n",
       "      <td>836</td>\n",
       "      <td>3</td>\n",
       "      <td>2000</td>\n",
       "    </tr>\n",
       "    <tr>\n",
       "      <th>...</th>\n",
       "      <td>...</td>\n",
       "      <td>...</td>\n",
       "      <td>...</td>\n",
       "      <td>...</td>\n",
       "      <td>...</td>\n",
       "    </tr>\n",
       "    <tr>\n",
       "      <th>95</th>\n",
       "      <td>6</td>\n",
       "      <td>1470</td>\n",
       "      <td>420</td>\n",
       "      <td>2</td>\n",
       "      <td>1993</td>\n",
       "    </tr>\n",
       "    <tr>\n",
       "      <th>96</th>\n",
       "      <td>7</td>\n",
       "      <td>1588</td>\n",
       "      <td>472</td>\n",
       "      <td>2</td>\n",
       "      <td>1999</td>\n",
       "    </tr>\n",
       "    <tr>\n",
       "      <th>97</th>\n",
       "      <td>4</td>\n",
       "      <td>960</td>\n",
       "      <td>432</td>\n",
       "      <td>1</td>\n",
       "      <td>1965</td>\n",
       "    </tr>\n",
       "    <tr>\n",
       "      <th>98</th>\n",
       "      <td>5</td>\n",
       "      <td>835</td>\n",
       "      <td>366</td>\n",
       "      <td>1</td>\n",
       "      <td>1920</td>\n",
       "    </tr>\n",
       "    <tr>\n",
       "      <th>99</th>\n",
       "      <td>4</td>\n",
       "      <td>1225</td>\n",
       "      <td>0</td>\n",
       "      <td>0</td>\n",
       "      <td>1959</td>\n",
       "    </tr>\n",
       "  </tbody>\n",
       "</table>\n",
       "<p>100 rows × 5 columns</p>\n",
       "</div>"
      ],
      "text/plain": [
       "    OverallQual  GrLivArea  GarageArea  GarageCars  YearBuilt\n",
       "0             7       1710         548           2       2003\n",
       "1             6       1262         460           2       1976\n",
       "2             7       1786         608           2       2001\n",
       "3             7       1717         642           3       1915\n",
       "4             8       2198         836           3       2000\n",
       "..          ...        ...         ...         ...        ...\n",
       "95            6       1470         420           2       1993\n",
       "96            7       1588         472           2       1999\n",
       "97            4        960         432           1       1965\n",
       "98            5        835         366           1       1920\n",
       "99            4       1225           0           0       1959\n",
       "\n",
       "[100 rows x 5 columns]"
      ]
     },
     "execution_count": 2185,
     "metadata": {},
     "output_type": "execute_result"
    }
   ],
   "source": [
    "# Select x and y values from the table\n",
    "cols_dropna = cols_dropna.drop(\"SalePrice\")\n",
    "X = numeric_dropna[cols_dropna]\n",
    "Y = numeric_dropna[\"SalePrice\"]\n",
    "X"
   ]
  },
  {
   "cell_type": "markdown",
   "metadata": {},
   "source": [
    "#### Build the 2nd regression model\n",
    "Again, I dropped the columns with nulls, used 5 columns instead of 2, and used 100 records instead of 20"
   ]
  },
  {
   "cell_type": "code",
   "execution_count": 2186,
   "metadata": {},
   "outputs": [
    {
     "name": "stdout",
     "output_type": "stream",
     "text": [
      "R^2 is : 0.8309859964337732\n"
     ]
    }
   ],
   "source": [
    "lr = linear_model.LinearRegression()\n",
    "model_dropna = lr.fit(X, Y)\n",
    "predictions_dropna = model_dropna.predict(X)\n",
    "print(\n",
    "    f\"R^2 is : {model_dropna.score(X,Y)}\"\n",
    ")  # 0.83 from 0.75, meaning 83% of the price is explained by the 6 independent variables"
   ]
  },
  {
   "cell_type": "code",
   "execution_count": 2187,
   "metadata": {},
   "outputs": [
    {
     "data": {
      "text/plain": [
       "(array([ 2.,  4., 19., 26., 26., 13.,  6.,  2.,  0.,  2.]),\n",
       " array([-72416.69551558, -54597.83016337, -36778.96481115, -18960.09945894,\n",
       "         -1141.23410673,  16677.63124549,  34496.4965977 ,  52315.36194991,\n",
       "         70134.22730213,  87953.09265434, 105771.95800655]),\n",
       " <BarContainer object of 10 artists>)"
      ]
     },
     "execution_count": 2187,
     "metadata": {},
     "output_type": "execute_result"
    },
    {
     "data": {
      "image/png": "[encoded data removed]",
      "text/plain": [
       "<Figure size 640x480 with 1 Axes>"
      ]
     },
     "metadata": {},
     "output_type": "display_data"
    }
   ],
   "source": [
    "plt.hist(\n",
    "    Y - predictions_dropna\n",
    ")  # plot the difference between the actual and predicted values. It should be normally distributed"
   ]
  },
  {
   "cell_type": "code",
   "execution_count": 2188,
   "metadata": {},
   "outputs": [
    {
     "data": {
      "text/plain": [
       "<matplotlib.collections.PathCollection at 0x1621f8ab170>"
      ]
     },
     "execution_count": 2188,
     "metadata": {},
     "output_type": "execute_result"
    },
    {
     "data": {
      "image/png": "[encoded data removed]",
      "text/plain": [
       "<Figure size 640x480 with 1 Axes>"
      ]
     },
     "metadata": {},
     "output_type": "display_data"
    }
   ],
   "source": [
    "plt.scatter(\n",
    "    predictions_dropna, Y, color=\"r\"\n",
    ")  # scatter plot of the predictions against the actual values. It should be a straight line with a slope of 1"
   ]
  },
  {
   "cell_type": "markdown",
   "metadata": {},
   "source": [
    "#### Testing model 2 against jtest data\n",
    "I also add the predicted SalePrice to the jtest table"
   ]
  },
  {
   "cell_type": "code",
   "execution_count": 2189,
   "metadata": {},
   "outputs": [
    {
     "data": {
      "text/html": [
       "<div>\n",
       "<style scoped>\n",
       "    .dataframe tbody tr th:only-of-type {\n",
       "        vertical-align: middle;\n",
       "    }\n",
       "\n",
       "    .dataframe tbody tr th {\n",
       "        vertical-align: top;\n",
       "    }\n",
       "\n",
       "    .dataframe thead th {\n",
       "        text-align: right;\n",
       "    }\n",
       "</style>\n",
       "<table border=\"1\" class=\"dataframe\">\n",
       "  <thead>\n",
       "    <tr style=\"text-align: right;\">\n",
       "      <th></th>\n",
       "      <th>OverallQual</th>\n",
       "      <th>GrLivArea</th>\n",
       "      <th>GarageArea</th>\n",
       "      <th>GarageCars</th>\n",
       "      <th>YearBuilt</th>\n",
       "      <th>SalePrice</th>\n",
       "    </tr>\n",
       "  </thead>\n",
       "  <tbody>\n",
       "    <tr>\n",
       "      <th>78</th>\n",
       "      <td>9</td>\n",
       "      <td>2234</td>\n",
       "      <td>1166</td>\n",
       "      <td>3</td>\n",
       "      <td>2008</td>\n",
       "      <td>$333,920</td>\n",
       "    </tr>\n",
       "    <tr>\n",
       "      <th>85</th>\n",
       "      <td>10</td>\n",
       "      <td>3608</td>\n",
       "      <td>840</td>\n",
       "      <td>3</td>\n",
       "      <td>1892</td>\n",
       "      <td>$324,795</td>\n",
       "    </tr>\n",
       "    <tr>\n",
       "      <th>61</th>\n",
       "      <td>9</td>\n",
       "      <td>2668</td>\n",
       "      <td>726</td>\n",
       "      <td>3</td>\n",
       "      <td>2003</td>\n",
       "      <td>$318,888</td>\n",
       "    </tr>\n",
       "    <tr>\n",
       "      <th>12</th>\n",
       "      <td>7</td>\n",
       "      <td>2696</td>\n",
       "      <td>792</td>\n",
       "      <td>3</td>\n",
       "      <td>2007</td>\n",
       "      <td>$285,349</td>\n",
       "    </tr>\n",
       "    <tr>\n",
       "      <th>18</th>\n",
       "      <td>7</td>\n",
       "      <td>3222</td>\n",
       "      <td>594</td>\n",
       "      <td>3</td>\n",
       "      <td>1990</td>\n",
       "      <td>$285,080</td>\n",
       "    </tr>\n",
       "    <tr>\n",
       "      <th>...</th>\n",
       "      <td>...</td>\n",
       "      <td>...</td>\n",
       "      <td>...</td>\n",
       "      <td>...</td>\n",
       "      <td>...</td>\n",
       "      <td>...</td>\n",
       "    </tr>\n",
       "    <tr>\n",
       "      <th>40</th>\n",
       "      <td>4</td>\n",
       "      <td>864</td>\n",
       "      <td>0</td>\n",
       "      <td>0</td>\n",
       "      <td>1971</td>\n",
       "      <td>$89,533</td>\n",
       "    </tr>\n",
       "    <tr>\n",
       "      <th>46</th>\n",
       "      <td>5</td>\n",
       "      <td>875</td>\n",
       "      <td>180</td>\n",
       "      <td>1</td>\n",
       "      <td>1931</td>\n",
       "      <td>$89,004</td>\n",
       "    </tr>\n",
       "    <tr>\n",
       "      <th>27</th>\n",
       "      <td>5</td>\n",
       "      <td>840</td>\n",
       "      <td>0</td>\n",
       "      <td>0</td>\n",
       "      <td>1930</td>\n",
       "      <td>$84,554</td>\n",
       "    </tr>\n",
       "    <tr>\n",
       "      <th>63</th>\n",
       "      <td>4</td>\n",
       "      <td>882</td>\n",
       "      <td>0</td>\n",
       "      <td>0</td>\n",
       "      <td>1956</td>\n",
       "      <td>$81,258</td>\n",
       "    </tr>\n",
       "    <tr>\n",
       "      <th>6</th>\n",
       "      <td>4</td>\n",
       "      <td>1047</td>\n",
       "      <td>273</td>\n",
       "      <td>1</td>\n",
       "      <td>1885</td>\n",
       "      <td>$54,851</td>\n",
       "    </tr>\n",
       "  </tbody>\n",
       "</table>\n",
       "<p>100 rows × 6 columns</p>\n",
       "</div>"
      ],
      "text/plain": [
       "    OverallQual  GrLivArea  GarageArea  GarageCars  YearBuilt SalePrice\n",
       "78            9       2234        1166           3       2008  $333,920\n",
       "85           10       3608         840           3       1892  $324,795\n",
       "61            9       2668         726           3       2003  $318,888\n",
       "12            7       2696         792           3       2007  $285,349\n",
       "18            7       3222         594           3       1990  $285,080\n",
       "..          ...        ...         ...         ...        ...       ...\n",
       "40            4        864           0           0       1971   $89,533\n",
       "46            5        875         180           1       1931   $89,004\n",
       "27            5        840           0           0       1930   $84,554\n",
       "63            4        882           0           0       1956   $81,258\n",
       "6             4       1047         273           1       1885   $54,851\n",
       "\n",
       "[100 rows x 6 columns]"
      ]
     },
     "execution_count": 2189,
     "metadata": {},
     "output_type": "execute_result"
    }
   ],
   "source": [
    "# Test the model against data we have not seen before\n",
    "test = pd.read_csv('jtest/jtest.csv')\n",
    "X = test[cols_dropna]\n",
    "Y = test['SalePrice']\n",
    "predictions = model_dropna.predict(X)\n",
    "X_with_predictions = X.copy()\n",
    "X_with_predictions[\"SalePrice\"] = predictions\n",
    "X_with_predictions = X_with_predictions.sort_values(by=\"SalePrice\", ascending=False)\n",
    "X_with_predictions[\"SalePrice\"] = X_with_predictions[\"SalePrice\"].map(\"${:,.0f}\".format)\n",
    "X_with_predictions"
   ]
  },
  {
   "cell_type": "code",
   "execution_count": 2190,
   "metadata": {},
   "outputs": [
    {
     "name": "stdout",
     "output_type": "stream",
     "text": [
      "R^2 is : 0.7403341313192588\n"
     ]
    }
   ],
   "source": [
    "# see how good the model is with the test data\n",
    "print(\n",
    "    f\"R^2 is : {model_dropna.score(X,Y)}\"\n",
    ")  # 0.74 meaning 74% of the test data sales price can be explained by the 6 independent variables"
   ]
  },
  {
   "cell_type": "markdown",
   "metadata": {},
   "source": [
    "#### Improving the model a second time\n",
    "by removing columns that make no sense"
   ]
  },
  {
   "cell_type": "code",
   "execution_count": 2191,
   "metadata": {},
   "outputs": [
    {
     "data": {
      "text/plain": [
       "SalePrice        1.000000\n",
       "OverallQual      0.855061\n",
       "GrLivArea        0.735129\n",
       "GarageArea       0.688249\n",
       "GarageCars       0.663441\n",
       "YearBuilt        0.658636\n",
       "TotalBsmtSF      0.616297\n",
       "GarageYrBlt      0.589361\n",
       "FullBath         0.579505\n",
       "MasVnrArea       0.571836\n",
       "TotRmsAbvGrd     0.553603\n",
       "1stFlrSF         0.550912\n",
       "YearRemodAdd     0.548330\n",
       "LotArea          0.497124\n",
       "Fireplaces       0.487907\n",
       "WoodDeckSF       0.451241\n",
       "2ndFlrSF         0.381076\n",
       "BsmtUnfSF        0.327020\n",
       "HalfBath         0.319304\n",
       "OpenPorchSF      0.301960\n",
       "LotFrontage      0.277853\n",
       "BsmtFinSF1       0.266713\n",
       "BedroomAbvGr     0.233426\n",
       "BsmtFullBath     0.155689\n",
       "ScreenPorch      0.035930\n",
       "3SsnPorch       -0.019391\n",
       "BsmtHalfBath    -0.055100\n",
       "MiscVal         -0.134707\n",
       "BsmtFinSF2      -0.138126\n",
       "LowQualFinSF    -0.150027\n",
       "OverallCond     -0.170443\n",
       "EnclosedPorch   -0.233483\n",
       "KitchenAbvGr    -0.235659\n",
       "YrSold          -0.262683\n",
       "PoolArea              NaN\n",
       "Name: SalePrice, dtype: float64"
      ]
     },
     "execution_count": 2191,
     "metadata": {},
     "output_type": "execute_result"
    }
   ],
   "source": [
    "# remove columns that make no sense, like categorical\n",
    "numeric_less_col = numeric_dropna.drop(\n",
    "    [\"MSSubClass\", \"MoSold\", \"Id\", \"Unnamed: 0\"], axis=1\n",
    ")\n",
    "\n",
    "# Note: Some columns in data_description.txt, like Bedroom and Kitchen, are not found in the training data.\n",
    "\n",
    "corr = numeric_less_col.corr()\n",
    "cols = (\n",
    "    corr[\"SalePrice\"].sort_values(ascending=False)[0:6].index\n",
    ")  # These have above 0.6 correlation with Sale Price\n",
    "cols\n",
    "corr[\"SalePrice\"].sort_values(ascending=False)[:] # Interestingly this did not change from the 2nd model\n"
   ]
  },
  {
   "cell_type": "code",
   "execution_count": 2192,
   "metadata": {},
   "outputs": [
    {
     "data": {
      "text/html": [
       "<div>\n",
       "<style scoped>\n",
       "    .dataframe tbody tr th:only-of-type {\n",
       "        vertical-align: middle;\n",
       "    }\n",
       "\n",
       "    .dataframe tbody tr th {\n",
       "        vertical-align: top;\n",
       "    }\n",
       "\n",
       "    .dataframe thead th {\n",
       "        text-align: right;\n",
       "    }\n",
       "</style>\n",
       "<table border=\"1\" class=\"dataframe\">\n",
       "  <thead>\n",
       "    <tr style=\"text-align: right;\">\n",
       "      <th></th>\n",
       "      <th>OverallQual</th>\n",
       "      <th>GrLivArea</th>\n",
       "      <th>GarageArea</th>\n",
       "      <th>GarageCars</th>\n",
       "      <th>YearBuilt</th>\n",
       "    </tr>\n",
       "  </thead>\n",
       "  <tbody>\n",
       "    <tr>\n",
       "      <th>0</th>\n",
       "      <td>7</td>\n",
       "      <td>1710</td>\n",
       "      <td>548</td>\n",
       "      <td>2</td>\n",
       "      <td>2003</td>\n",
       "    </tr>\n",
       "    <tr>\n",
       "      <th>1</th>\n",
       "      <td>6</td>\n",
       "      <td>1262</td>\n",
       "      <td>460</td>\n",
       "      <td>2</td>\n",
       "      <td>1976</td>\n",
       "    </tr>\n",
       "    <tr>\n",
       "      <th>2</th>\n",
       "      <td>7</td>\n",
       "      <td>1786</td>\n",
       "      <td>608</td>\n",
       "      <td>2</td>\n",
       "      <td>2001</td>\n",
       "    </tr>\n",
       "    <tr>\n",
       "      <th>3</th>\n",
       "      <td>7</td>\n",
       "      <td>1717</td>\n",
       "      <td>642</td>\n",
       "      <td>3</td>\n",
       "      <td>1915</td>\n",
       "    </tr>\n",
       "    <tr>\n",
       "      <th>4</th>\n",
       "      <td>8</td>\n",
       "      <td>2198</td>\n",
       "      <td>836</td>\n",
       "      <td>3</td>\n",
       "      <td>2000</td>\n",
       "    </tr>\n",
       "    <tr>\n",
       "      <th>...</th>\n",
       "      <td>...</td>\n",
       "      <td>...</td>\n",
       "      <td>...</td>\n",
       "      <td>...</td>\n",
       "      <td>...</td>\n",
       "    </tr>\n",
       "    <tr>\n",
       "      <th>95</th>\n",
       "      <td>6</td>\n",
       "      <td>1470</td>\n",
       "      <td>420</td>\n",
       "      <td>2</td>\n",
       "      <td>1993</td>\n",
       "    </tr>\n",
       "    <tr>\n",
       "      <th>96</th>\n",
       "      <td>7</td>\n",
       "      <td>1588</td>\n",
       "      <td>472</td>\n",
       "      <td>2</td>\n",
       "      <td>1999</td>\n",
       "    </tr>\n",
       "    <tr>\n",
       "      <th>97</th>\n",
       "      <td>4</td>\n",
       "      <td>960</td>\n",
       "      <td>432</td>\n",
       "      <td>1</td>\n",
       "      <td>1965</td>\n",
       "    </tr>\n",
       "    <tr>\n",
       "      <th>98</th>\n",
       "      <td>5</td>\n",
       "      <td>835</td>\n",
       "      <td>366</td>\n",
       "      <td>1</td>\n",
       "      <td>1920</td>\n",
       "    </tr>\n",
       "    <tr>\n",
       "      <th>99</th>\n",
       "      <td>4</td>\n",
       "      <td>1225</td>\n",
       "      <td>0</td>\n",
       "      <td>0</td>\n",
       "      <td>1959</td>\n",
       "    </tr>\n",
       "  </tbody>\n",
       "</table>\n",
       "<p>100 rows × 5 columns</p>\n",
       "</div>"
      ],
      "text/plain": [
       "    OverallQual  GrLivArea  GarageArea  GarageCars  YearBuilt\n",
       "0             7       1710         548           2       2003\n",
       "1             6       1262         460           2       1976\n",
       "2             7       1786         608           2       2001\n",
       "3             7       1717         642           3       1915\n",
       "4             8       2198         836           3       2000\n",
       "..          ...        ...         ...         ...        ...\n",
       "95            6       1470         420           2       1993\n",
       "96            7       1588         472           2       1999\n",
       "97            4        960         432           1       1965\n",
       "98            5        835         366           1       1920\n",
       "99            4       1225           0           0       1959\n",
       "\n",
       "[100 rows x 5 columns]"
      ]
     },
     "execution_count": 2192,
     "metadata": {},
     "output_type": "execute_result"
    }
   ],
   "source": [
    "# select x and y values\n",
    "cols = cols.drop(\"SalePrice\")\n",
    "X = numeric_less_col[cols]\n",
    "Y = numeric_less_col[\"SalePrice\"]\n",
    "X"
   ]
  },
  {
   "cell_type": "markdown",
   "metadata": {},
   "source": [
    "#### Build the 3rd regression model\n",
    "like the 2nd model but less non-sense columns"
   ]
  },
  {
   "cell_type": "code",
   "execution_count": 2193,
   "metadata": {},
   "outputs": [
    {
     "name": "stdout",
     "output_type": "stream",
     "text": [
      "R^2 is : 0.8309859964337732\n"
     ]
    }
   ],
   "source": [
    "lr = linear_model.LinearRegression()\n",
    "model = lr.fit(X, Y)\n",
    "predictions = model.predict(X)\n",
    "print(\n",
    "    f\"R^2 is : {model.score(X,Y)}\"\n",
    ")  # Interestingly did not change from the 2nd model\n",
    "# I did not test this model since it's the same as the 2nd model"
   ]
  },
  {
   "cell_type": "markdown",
   "metadata": {},
   "source": [
    "#### Improve the model a third time (model 4)\n",
    "by increasing the number of columns from 5 to 10"
   ]
  },
  {
   "cell_type": "code",
   "execution_count": 2194,
   "metadata": {},
   "outputs": [
    {
     "data": {
      "text/plain": [
       "Index(['SalePrice', 'OverallQual', 'GrLivArea', 'GarageArea', 'GarageCars',\n",
       "       'YearBuilt', 'TotalBsmtSF', 'GarageYrBlt', 'FullBath', 'MasVnrArea',\n",
       "       'TotRmsAbvGrd'],\n",
       "      dtype='object')"
      ]
     },
     "execution_count": 2194,
     "metadata": {},
     "output_type": "execute_result"
    }
   ],
   "source": [
    "cols = (\n",
    "    corr[\"SalePrice\"].sort_values(ascending=False)[0:11].index\n",
    ")  # These have above 0.6 correlation with Sale Price\n",
    "cols"
   ]
  },
  {
   "cell_type": "code",
   "execution_count": 2195,
   "metadata": {},
   "outputs": [],
   "source": [
    "# define x and y columns\n",
    "cols = cols.drop(\"SalePrice\")\n",
    "X = numeric_less_col[cols]\n",
    "Y = numeric_less_col[\"SalePrice\"]\n"
   ]
  },
  {
   "cell_type": "markdown",
   "metadata": {},
   "source": [
    "[Back to top](#Index)\n",
    "\n",
    "### 3.3 Results\n",
    "\n",
    "Using the top 10 correlated columns, 100 training records, and no null columns produced a score of 0.85, meaning given these 10 variables, the model can predict 85% of the sale price. Since the scatter plot of prediction vs actual looks like it has a slope of 1, the model is a good predictor. The histogram of the difference between actual sales prices and predictions has a normal distribution.\n"
   ]
  },
  {
   "cell_type": "code",
   "execution_count": 2196,
   "metadata": {},
   "outputs": [
    {
     "name": "stdout",
     "output_type": "stream",
     "text": [
      "R^2 is : 0.8517354506353325\n"
     ]
    }
   ],
   "source": [
    "lr = linear_model.LinearRegression()\n",
    "model_4 = lr.fit(X, Y)\n",
    "predictions = model_4.predict(X)\n",
    "print(\n",
    "    f\"R^2 is : {model_4.score(X,Y)}\"\n",
    ")"
   ]
  },
  {
   "cell_type": "code",
   "execution_count": 2197,
   "metadata": {},
   "outputs": [
    {
     "data": {
      "text/plain": [
       "(array([ 2.,  4.,  7., 22., 29., 18.,  9.,  5.,  2.,  2.]),\n",
       " array([-74711.30459464, -58456.46643905, -42201.62828345, -25946.79012786,\n",
       "         -9691.95197227,   6562.88618333,  22817.72433892,  39072.56249451,\n",
       "         55327.40065011,  71582.2388057 ,  87837.07696129]),\n",
       " <BarContainer object of 10 artists>)"
      ]
     },
     "execution_count": 2197,
     "metadata": {},
     "output_type": "execute_result"
    },
    {
     "data": {
      "image/png": "[encoded data removed]",
      "text/plain": [
       "<Figure size 640x480 with 1 Axes>"
      ]
     },
     "metadata": {},
     "output_type": "display_data"
    }
   ],
   "source": [
    "plt.hist(\n",
    "    Y - predictions\n",
    ")  # plot the difference between the actual and predicted values. It should be normally distributed"
   ]
  },
  {
   "cell_type": "code",
   "execution_count": 2198,
   "metadata": {},
   "outputs": [
    {
     "data": {
      "text/plain": [
       "<matplotlib.collections.PathCollection at 0x1621fbd1a90>"
      ]
     },
     "execution_count": 2198,
     "metadata": {},
     "output_type": "execute_result"
    },
    {
     "data": {
      "image/png": "[encoded data removed]",
      "text/plain": [
       "<Figure size 640x480 with 1 Axes>"
      ]
     },
     "metadata": {},
     "output_type": "display_data"
    }
   ],
   "source": [
    "plt.scatter(\n",
    "    predictions, Y, color=\"r\"\n",
    ")  # scatter plot of the predictions against the actual values. It should be a straight line with a slope of 1"
   ]
  },
  {
   "cell_type": "markdown",
   "metadata": {},
   "source": [
    "[Back to top](#Index)\n",
    "\n",
    "### 3.4 Verify The Model Against Test Data\n",
    "\n",
    "The score against the training data is 0.85, but against the new data in jtest.csv, it decreases to 0.75. \n",
    "Because jtest.csv has empty data in the GarageYrBlt column, I had to fill these with the mean of the whole column."
   ]
  },
  {
   "cell_type": "code",
   "execution_count": 2199,
   "metadata": {},
   "outputs": [
    {
     "name": "stdout",
     "output_type": "stream",
     "text": [
      "R^2 is : 0.7546246844663147\n"
     ]
    },
    {
     "name": "stderr",
     "output_type": "stream",
     "text": [
      "C:\\Users\\andre\\AppData\\Local\\Temp\\ipykernel_5288\\2298846239.py:6: SettingWithCopyWarning: \n",
      "A value is trying to be set on a copy of a slice from a DataFrame.\n",
      "Try using .loc[row_indexer,col_indexer] = value instead\n",
      "\n",
      "See the caveats in the documentation: https://pandas.pydata.org/pandas-docs/stable/user_guide/indexing.html#returning-a-view-versus-a-copy\n",
      "  X['GarageYrBlt'] = X['GarageYrBlt'].fillna(X['GarageYrBlt'].mean())\n"
     ]
    }
   ],
   "source": [
    "# test the 4th model with test data\n",
    "\n",
    "X = test[cols]\n",
    "Y = test[\"SalePrice\"]\n",
    "\n",
    "X['GarageYrBlt'] = X['GarageYrBlt'].fillna(X['GarageYrBlt'].mean())\n",
    "# see how good the model is\n",
    "print(\n",
    "    f\"R^2 is : {model_4.score(X,Y)}\"\n",
    ")  # Without fillna (filling empty values of GarageYrBlt), this errors with Input X contains NaN."
   ]
  },
  {
   "cell_type": "markdown",
   "metadata": {},
   "source": [
    "[Back to top](#Index)\n",
    "\n",
    "## Conclusion\n",
    "\n",
    "\n",
    "The model that performed the best was the 4th model, the one with the top 10 correlated columns, 100 training records, and no null columns. The score for this model is 0.85, meaning given these 10 variables, the model can predict 85% of the sale price. This is better than the 0.75 of Dr. Williams. Since the scatter plot of prediction vs actual looks like it has a slope of 1, the model is a good predictor. Basically having more columns, and more training records, and removing null columns made the model more accurate. The variables I included are: \n",
    "- 'OverallQual', \n",
    "- 'GrLivArea', \n",
    "- 'GarageArea', \n",
    "- 'GarageCars',\n",
    "- 'YearBuilt', \n",
    "- 'TotalBsmtSF', \n",
    "- 'GarageYrBlt', \n",
    "- 'FullBath', \n",
    "- 'MasVnrArea',\n",
    "- 'TotRmsAbvGrd'\n",
    "\n",
    "These variables make sense, since having a higher overall quality would seem to make the sale higher. Having a bigger living room area would also seem to make the sale higher, and so on.\n",
    "\n"
   ]
  },
  {
   "cell_type": "markdown",
   "metadata": {},
   "source": [
    "\n",
    "[Back to top](#Index\n",
    ")\n",
    "## References\n",
    "\n",
    "Made with the help of GitHub Copilot\n",
    "\n",
    "“Pandas DataFrame corr() Method” Geeks for geeks. Last Updated : 01 Dec, 2023. [https://www.geeksforgeeks.org/python-pandas-dataframe-corr/](https://www.geeksforgeeks.org/python-pandas-dataframe-corr/).\n",
    "\n"
   ]
  }
 ],
 "metadata": {
  "kernelspec": {
   "display_name": "Python 3",
   "language": "python",
   "name": "python3"
  },
  "language_info": {
   "codemirror_mode": {
    "name": "ipython",
    "version": 3
   },
   "file_extension": ".py",
   "mimetype": "text/x-python",
   "name": "python",
   "nbconvert_exporter": "python",
   "pygments_lexer": "ipython3",
   "version": "3.12.3"
  }
 },
 "nbformat": 4,
 "nbformat_minor": 4
}
