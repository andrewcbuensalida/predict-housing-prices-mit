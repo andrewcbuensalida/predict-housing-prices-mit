{
 "cells": [
  {
   "cell_type": "markdown",
   "metadata": {},
   "source": [
    "# The Central Limit Theorem\n",
    "\n",
    "\n",
    "**IMPORTANT INSTRUCTIONS:** This activity is designed for you to experiment with Python code about samplig, variance, and mean. Feel free to change any numerical value throughout the code in the activity to visualize different outcomes and results."
   ]
  },
  {
   "cell_type": "markdown",
   "metadata": {},
   "source": [
    "## The Central Limit Theorem\n",
    "\n",
    "The central limit theorem (CLT) is a fundamental theorem of statistics that lays the foundations for understanding the results of *sampling*.\n",
    "\n",
    "\n",
    "### Formal Definition\n",
    "\n",
    "The central limit theorem (CLT) states that the distribution of a sample variable approximates a normal distribution as the *sample* size becomes larger, assuming that all *samples* are identical in size and regardless of the population's actual distribution shape.\n",
    "\n",
    "In other words, according to the CLT, the mean of a *sample* of data will be closer to the mean of the overall population in question, as the *sample* size increases.\n",
    "\n",
    "### Key Terms \n",
    "\n",
    "Imagine performing a *trial*  and getting an *observation*. Next, imagine repeating the *trial* again and getting a new independent *observation*. Collected together, multiple *observations* represent a *sample* of *observations*.\n",
    "\n",
    "As you know, a sample is a group of *observations* from a broader *population*.\n",
    "\n",
    "Let's first understand the differences between the words *observation*, *sample*, and *population*:\n",
    "\n",
    "- *Observation*: is the result from one *trial* of an experiment.\n",
    "- *Sample*: is the group of results gathered from separate independent *trials*.\n",
    "- *Population*: Is the space of all possible observations that could be seen from a trial.\n",
    "\n",
    "The mean of a *sample* won't be exactly the same mean of the *population* distribution: like any estimate, it will be wrong and will contain some error. However, if you draw multiple independent *samples* and calculate their means, the distribution of those means will form a Gaussian distribution.\n",
    "\n",
    "### Key Takeaways\n",
    "\n",
    "Without going too deep into the mathematical details of the CLT, here are some fundamental takeways from it:\n",
    "\n",
    "\n",
    "- The CLT states that the distribution of *sample* means approximates a normal distribution as the sample size gets larger, regardless of the *population*'s distribution.\n",
    "- Sample sizes equal to or greater than **30** are often considered sufficient for the CLT to hold.\n",
    "- The average of the means and standard deviations of the *sample* will equal the mean and standard deviation of the *population*.\n"
   ]
  },
  {
   "cell_type": "markdown",
   "metadata": {},
   "source": [
    "## Uniform Distribution\n",
    "\n",
    "For this example, assume that you are rolling a fair six-faced die. \n",
    "\n",
    "As you already know, the distribution of the numbers that turn up from a die roll is uniform.\n",
    "\n",
    "Assume that we roll the die 50 times.\n",
    "\n",
    "Theoretically, the mean of the experiment is given by:\n",
    "\n",
    "$$\\mu_x = \\frac{\\sum X}{N} =\\frac{1+2+3+4+5+6}{6} = 3.5$$"
   ]
  },
  {
   "cell_type": "markdown",
   "metadata": {},
   "source": [
    " In the code cell below, we use Python to generate the sample of 50 die rolls and the mean value of the sample."
   ]
  },
  {
   "cell_type": "code",
   "execution_count": 13,
   "metadata": {},
   "outputs": [
    {
     "name": "stdout",
     "output_type": "stream",
     "text": [
      "[6 4 5 1 2 4 6 1 1 2 5 6 5 2 3 5 6 3 5 4 5 3 5 6 3 5 2 2 1 6 2 2 6 2 2 1 5\n",
      " 2 1 1 6 4 3 2 1 4 6 2 2 4]\n",
      "3.44\n"
     ]
    }
   ],
   "source": [
    "from numpy.random import seed\n",
    "from numpy.random import randint\n",
    "from numpy import mean\n",
    "\n",
    "# seed the random number generator for reproducibility\n",
    "seed(1)\n",
    "\n",
    "# generate a sample of die rolls\n",
    "rolls = randint(1, 7, 50)\n",
    "print(rolls)\n",
    "print(mean(rolls))\n"
   ]
  },
  {
   "cell_type": "markdown",
   "metadata": {},
   "source": [
    "You can see that the *sample* mean is not exactly the same as the theoretical one. \n",
    "\n",
    "Can you guess why? What happens to the *sample* mean if you increase the number of trials?"
   ]
  },
  {
   "cell_type": "markdown",
   "metadata": {},
   "source": [
    "The sample mean gets closer to 3.5 the more trials there are. I increased the number of rolls to 500000 and got a mean of 3.50719. This is 1 order of magnitude closer to the theoretical 3.5 mean.\n"
   ]
  },
  {
   "cell_type": "markdown",
   "metadata": {},
   "source": [
    "Next, repeat the processs multiple times. Repeating it 100 times, will give you a result of 100 sample means.\n",
    "\n",
    "Run the code cell below:"
   ]
  },
  {
   "cell_type": "code",
   "execution_count": 63,
   "metadata": {},
   "outputs": [],
   "source": [
    "# calculate the mean of 50 dice rolls 100 times\n",
    "means = [mean(randint(1, 7, 50)) for i in range(100)]"
   ]
  },
  {
   "cell_type": "markdown",
   "metadata": {},
   "source": [
    "Finally, we can use Matplotlib to the distribution of these sample means."
   ]
  },
  {
   "cell_type": "code",
   "execution_count": 64,
   "metadata": {},
   "outputs": [
    {
     "data": {
      "image/png": "[encoded data removed]",
      "text/plain": [
       "<Figure size 640x480 with 1 Axes>"
      ]
     },
     "metadata": {},
     "output_type": "display_data"
    }
   ],
   "source": [
    "import matplotlib.pyplot as plt\n",
    "# plot the distribution of sample means\n",
    "plt.hist(means)\n",
    "plt.show()"
   ]
  },
  {
   "cell_type": "markdown",
   "metadata": {},
   "source": [
    "You will notice that the distribution doesn't really resemble a Gaussian.\n",
    "\n",
    "How can you improve the result? What happens if you increase the number of *trials* even more?"
   ]
  },
  {
   "cell_type": "markdown",
   "metadata": {},
   "source": [
    "If I increase the number of trials, it starts to look more like a Guassian distribution, aka normal distribution, aka bell curve.\n",
    "\n"
   ]
  },
  {
   "cell_type": "markdown",
   "metadata": {},
   "source": [
    "The image below, displays the sample mean distribution when we repeat the experiment 10,000 times.\n",
    "\n",
    "<img src=\"clt.png\" alt=\"Drawing\" style=\"width: 400px;\"/>"
   ]
  },
  {
   "cell_type": "markdown",
   "metadata": {},
   "source": [
    "You can see that as the number of experiments increases, the underlying distribution of the sample means resembles a Guassian, with the mean equal to 3.5, in accordance with the CLT."
   ]
  },
  {
   "cell_type": "markdown",
   "metadata": {},
   "source": [
    "## Exponential Distribution\n",
    "\n",
    "As you know, the exponential distribution is a continuous distribution that is often used to model the expected time one needs to wait before the occurrence of an event.\n",
    "\n",
    "As a reminder, the exponential distribution is defined as:\n",
    "\n",
    "$$f(x) = \\begin{cases} \n",
    "      \\lambda e^{-\\lambda x} \\text{  if  } x >0 \\\\\n",
    "      0 \\text{  otherwise.}\n",
    "   \\end{cases}\n",
    "$$\n",
    "\n",
    "Additionally, the mean, $\\mu_x$, and the standard deviation, $\\sigma^2$, of an exponential disribution are given by:\n",
    "\n",
    "$$\\mu_x = \\sigma^2 = \\frac{1}{\\lambda}.$$\n",
    "\n",
    "\n",
    "Suppose you have a population which is exponentially distributed and defined by the parameter $\\lambda = 0.25$. The mean and the standard deviation for this case are given by:"
   ]
  },
  {
   "cell_type": "code",
   "execution_count": 28,
   "metadata": {},
   "outputs": [
    {
     "name": "stdout",
     "output_type": "stream",
     "text": [
      "Population mean: 4.0\n",
      "Population standard deviation: 4.0\n"
     ]
    }
   ],
   "source": [
    "import numpy as np\n",
    "\n",
    "# rate parameter for the exponentially distributed population\n",
    "\n",
    "rate = 0.25\n",
    "\n",
    "\n",
    "# population mean\n",
    "\n",
    "mu = 1/rate\n",
    "\n",
    "\n",
    "# population standard deviation\n",
    "\n",
    "sd = np.sqrt(1/(rate**2))\n",
    "\n",
    "\n",
    "print('Population mean:', mu)\n",
    "\n",
    "print('Population standard deviation:', sd)"
   ]
  },
  {
   "cell_type": "markdown",
   "metadata": {},
   "source": [
    "Now determine what the sampling distribution looks like for this population. Consider two cases: one with a small *sample* size (n= 2), and one with a large *sample* size (n=500).\n",
    "\n",
    "First, draw 50 random *samples* of two from the population. The code to do this in Python is given below:"
   ]
  },
  {
   "cell_type": "code",
   "execution_count": 29,
   "metadata": {},
   "outputs": [
    {
     "data": {
      "text/html": [
       "<div>\n",
       "<style scoped>\n",
       "    .dataframe tbody tr th:only-of-type {\n",
       "        vertical-align: middle;\n",
       "    }\n",
       "\n",
       "    .dataframe tbody tr th {\n",
       "        vertical-align: top;\n",
       "    }\n",
       "\n",
       "    .dataframe thead th {\n",
       "        text-align: right;\n",
       "    }\n",
       "</style>\n",
       "<table border=\"1\" class=\"dataframe\">\n",
       "  <thead>\n",
       "    <tr style=\"text-align: right;\">\n",
       "      <th></th>\n",
       "      <th>sample 1</th>\n",
       "      <th>sample 2</th>\n",
       "      <th>sample 3</th>\n",
       "      <th>sample 4</th>\n",
       "      <th>sample 5</th>\n",
       "      <th>sample 6</th>\n",
       "      <th>sample 7</th>\n",
       "      <th>sample 8</th>\n",
       "      <th>sample 9</th>\n",
       "      <th>sample 10</th>\n",
       "      <th>...</th>\n",
       "      <th>sample 41</th>\n",
       "      <th>sample 42</th>\n",
       "      <th>sample 43</th>\n",
       "      <th>sample 44</th>\n",
       "      <th>sample 45</th>\n",
       "      <th>sample 46</th>\n",
       "      <th>sample 47</th>\n",
       "      <th>sample 48</th>\n",
       "      <th>sample 49</th>\n",
       "      <th>sample 50</th>\n",
       "    </tr>\n",
       "  </thead>\n",
       "  <tbody>\n",
       "    <tr>\n",
       "      <th>x1</th>\n",
       "      <td>1.478019</td>\n",
       "      <td>0.568052</td>\n",
       "      <td>0.389551</td>\n",
       "      <td>1.486427</td>\n",
       "      <td>0.410918</td>\n",
       "      <td>8.486899</td>\n",
       "      <td>4.194120</td>\n",
       "      <td>5.759850</td>\n",
       "      <td>0.178310</td>\n",
       "      <td>0.132241</td>\n",
       "      <td>...</td>\n",
       "      <td>1.619498</td>\n",
       "      <td>1.002494</td>\n",
       "      <td>6.757822</td>\n",
       "      <td>5.451052</td>\n",
       "      <td>10.736775</td>\n",
       "      <td>1.725228</td>\n",
       "      <td>10.445857</td>\n",
       "      <td>1.254074</td>\n",
       "      <td>4.776674</td>\n",
       "      <td>0.043892</td>\n",
       "    </tr>\n",
       "    <tr>\n",
       "      <th>x2</th>\n",
       "      <td>4.556669</td>\n",
       "      <td>0.243937</td>\n",
       "      <td>7.299416</td>\n",
       "      <td>5.641810</td>\n",
       "      <td>2.162502</td>\n",
       "      <td>6.412405</td>\n",
       "      <td>1.688285</td>\n",
       "      <td>13.011787</td>\n",
       "      <td>2.783647</td>\n",
       "      <td>3.557161</td>\n",
       "      <td>...</td>\n",
       "      <td>9.709612</td>\n",
       "      <td>1.785041</td>\n",
       "      <td>3.679410</td>\n",
       "      <td>1.876971</td>\n",
       "      <td>3.306469</td>\n",
       "      <td>5.899269</td>\n",
       "      <td>1.726184</td>\n",
       "      <td>12.638914</td>\n",
       "      <td>2.406020</td>\n",
       "      <td>2.579993</td>\n",
       "    </tr>\n",
       "  </tbody>\n",
       "</table>\n",
       "<p>2 rows × 50 columns</p>\n",
       "</div>"
      ],
      "text/plain": [
       "    sample 1  sample 2  sample 3  sample 4  sample 5  sample 6  sample 7  \\\n",
       "x1  1.478019  0.568052  0.389551  1.486427  0.410918  8.486899  4.194120   \n",
       "x2  4.556669  0.243937  7.299416  5.641810  2.162502  6.412405  1.688285   \n",
       "\n",
       "     sample 8  sample 9  sample 10  ...  sample 41  sample 42  sample 43  \\\n",
       "x1   5.759850  0.178310   0.132241  ...   1.619498   1.002494   6.757822   \n",
       "x2  13.011787  2.783647   3.557161  ...   9.709612   1.785041   3.679410   \n",
       "\n",
       "    sample 44  sample 45  sample 46  sample 47  sample 48  sample 49  \\\n",
       "x1   5.451052  10.736775   1.725228  10.445857   1.254074   4.776674   \n",
       "x2   1.876971   3.306469   5.899269   1.726184  12.638914   2.406020   \n",
       "\n",
       "    sample 50  \n",
       "x1   0.043892  \n",
       "x2   2.579993  \n",
       "\n",
       "[2 rows x 50 columns]"
      ]
     },
     "execution_count": 29,
     "metadata": {},
     "output_type": "execute_result"
    }
   ],
   "source": [
    "import pandas as pd\n",
    "import numpy as np\n",
    "\n",
    "# drawing 50 random samples of size 2 from the exponentially distributed population\n",
    "sample_size = 2\n",
    "#generating an empty dataframe\n",
    "df2 = pd.DataFrame(index= ['x1', 'x2'] )\n",
    "\n",
    "#filling the dataframe with exponentially distributed points\n",
    "for i in range(1, 51):\n",
    "    exponential_sample = np.random.exponential((1/rate), sample_size)\n",
    "    col = f'sample {i}'\n",
    "    df2[col] = exponential_sample\n",
    "\n",
    "df2"
   ]
  },
  {
   "cell_type": "markdown",
   "metadata": {},
   "source": [
    "For each of the 50 *samples*, you can calculate the *sample* mean and plot its distribution using Seaborn as follows:"
   ]
  },
  {
   "cell_type": "code",
   "execution_count": 65,
   "metadata": {},
   "outputs": [
    {
     "name": "stderr",
     "output_type": "stream",
     "text": [
      "C:\\Users\\andre\\AppData\\Local\\Temp\\ipykernel_17896\\603104995.py:4: UserWarning: \n",
      "\n",
      "`distplot` is a deprecated function and will be removed in seaborn v0.14.0.\n",
      "\n",
      "Please adapt your code to use either `displot` (a figure-level function with\n",
      "similar flexibility) or `histplot` (an axes-level function for histograms).\n",
      "\n",
      "For a guide to updating your code to use the new functions, please see\n",
      "https://gist.github.com/mwaskom/de44147ed2974457ad6372750bbe5751\n",
      "\n",
      "  sns.distplot(df2_sample_means);\n"
     ]
    },
    {
     "data": {
      "text/plain": [
       "sample 1      3.017344\n",
       "sample 2      0.405995\n",
       "sample 3      3.844484\n",
       "sample 4      3.564118\n",
       "sample 5      1.286710\n",
       "sample 6      7.449652\n",
       "sample 7      2.941202\n",
       "sample 8      9.385818\n",
       "sample 9      1.480979\n",
       "sample 10     1.844701\n",
       "sample 11    12.012899\n",
       "sample 12     4.721952\n",
       "sample 13     1.401098\n",
       "sample 14     0.762749\n",
       "sample 15     2.700533\n",
       "sample 16     1.967012\n",
       "sample 17     5.068325\n",
       "sample 18     8.288915\n",
       "sample 19     2.600915\n",
       "sample 20     3.017278\n",
       "sample 21     1.652031\n",
       "sample 22     6.644552\n",
       "sample 23     2.280250\n",
       "sample 24     4.539826\n",
       "sample 25     4.422894\n",
       "sample 26    10.182398\n",
       "sample 27     4.602316\n",
       "sample 28     2.017617\n",
       "sample 29     7.009693\n",
       "sample 30     5.886232\n",
       "sample 31     5.723412\n",
       "sample 32     1.944371\n",
       "sample 33     3.088221\n",
       "sample 34     4.901916\n",
       "sample 35     5.020260\n",
       "sample 36     5.053131\n",
       "sample 37     9.030387\n",
       "sample 38     4.974157\n",
       "sample 39     6.512855\n",
       "sample 40     1.306459\n",
       "sample 41     5.664555\n",
       "sample 42     1.393767\n",
       "sample 43     5.218616\n",
       "sample 44     3.664012\n",
       "sample 45     7.021622\n",
       "sample 46     3.812249\n",
       "sample 47     6.086020\n",
       "sample 48     6.946494\n",
       "sample 49     3.591347\n",
       "sample 50     1.311942\n",
       "dtype: float64"
      ]
     },
     "execution_count": 65,
     "metadata": {},
     "output_type": "execute_result"
    },
    {
     "data": {
      "image/png": "[encoded data removed]",
      "text/plain": [
       "<Figure size 640x480 with 1 Axes>"
      ]
     },
     "metadata": {},
     "output_type": "display_data"
    }
   ],
   "source": [
    "import seaborn as sns\n",
    "# calculating sample means and plotting their distribution\n",
    "df2_sample_means = df2.mean()\n",
    "sns.distplot(df2_sample_means);\n",
    "df2_sample_means"
   ]
  },
  {
   "cell_type": "markdown",
   "metadata": {},
   "source": [
    "You can see that even for a small *sample* size such as two, the distribution of *sample* means looks like a poor approximation of a normal distribution, with some left skew. This is due to the fact that the *sample* size is too small (n=2) and this size is not large enough for the CLT to hold.\n",
    "\n",
    "\n",
    "What happens if you try to repeat the above process, but with a much larger *sample* size?\n",
    "\n",
    "In the code cell below, fill in the ellipsis to set the *sample* size equal to 500."
   ]
  },
  {
   "cell_type": "code",
   "execution_count": 68,
   "metadata": {},
   "outputs": [
    {
     "name": "stderr",
     "output_type": "stream",
     "text": [
      "C:\\Users\\andre\\AppData\\Local\\Temp\\ipykernel_17896\\790156254.py:13: UserWarning: \n",
      "\n",
      "`distplot` is a deprecated function and will be removed in seaborn v0.14.0.\n",
      "\n",
      "Please adapt your code to use either `displot` (a figure-level function with\n",
      "similar flexibility) or `histplot` (an axes-level function for histograms).\n",
      "\n",
      "For a guide to updating your code to use the new functions, please see\n",
      "https://gist.github.com/mwaskom/de44147ed2974457ad6372750bbe5751\n",
      "\n",
      "  sns.distplot(df500_sample_means);\n"
     ]
    },
    {
     "data": {
      "image/png": "[encoded data removed]",
      "text/plain": [
       "<Figure size 640x480 with 1 Axes>"
      ]
     },
     "metadata": {},
     "output_type": "display_data"
    }
   ],
   "source": [
    "# drawing 50 random samples of size 500\n",
    "sample_size=500\n",
    "\n",
    "df500 = pd.DataFrame()\n",
    "\n",
    "for i in range(1, 51):\n",
    "    exponential_sample = np.random.exponential((1/rate), sample_size)\n",
    "    col = f'sample {i}'\n",
    "    df500[col] = exponential_sample\n",
    "\n",
    "# print(df500)\n",
    "df500_sample_means = pd.DataFrame(df500.mean(),columns=['Sample means'])\n",
    "sns.distplot(df500_sample_means);"
   ]
  },
  {
   "cell_type": "markdown",
   "metadata": {},
   "source": [
    "After running the experiment with a *sample* size equal to 500, you should see a distribution similar to the one below:\n",
    "\n",
    "<img src=\"exp.png\" alt=\"Drawing\" style=\"width: 400px;\"/>\n",
    "\n",
    "\n",
    "You notice that the *sampling* distribution looks much more like a normal distribution now as you have used a much larger sample size (n=500). You can also see that the mean of the *sampling* distribution is close to the theoretical one that we computed above."
   ]
  },
  {
   "cell_type": "code",
   "execution_count": null,
   "metadata": {},
   "outputs": [],
   "source": []
  }
 ],
 "metadata": {
  "kernelspec": {
   "display_name": "Python 3",
   "language": "python",
   "name": "python3"
  },
  "language_info": {
   "codemirror_mode": {
    "name": "ipython",
    "version": 3
   },
   "file_extension": ".py",
   "mimetype": "text/x-python",
   "name": "python",
   "nbconvert_exporter": "python",
   "pygments_lexer": "ipython3",
   "version": "3.12.3"
  }
 },
 "nbformat": 4,
 "nbformat_minor": 4
}
