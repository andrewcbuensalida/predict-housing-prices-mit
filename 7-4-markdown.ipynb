{
 "cells": [
  {
   "cell_type": "markdown",
   "metadata": {},
   "source": [
    "# Writing Markdown\n",
    "\n"
   ]
  },
  {
   "cell_type": "markdown",
   "metadata": {},
   "source": [
    "Table of contents:\n",
    "\n",
    "- [Introduction](#introduction)\n",
    "- [Headers](#headers)\n",
    "- [Emphasizing Text](#emphasizing-text)\n",
    "- [Creating Tables](#creating-tables)\n",
    "- [Including Python Code](#including-python-code)\n",
    "- [Creating Lists](#creating-lists)\n",
    "- [Creating Comments](#creating-comments)\n",
    "- [Creating Images](#creating-images)\n",
    "- [Creating Links](#creating-links)\n"
   ]
  },
  {
   "cell_type": "markdown",
   "metadata": {},
   "source": [
    "## Introduction\n",
    "\n",
    "Markdown is a lightweight markup language that allows you to write formatted text using a plain text syntax. It is widely used for creating documentation, writing blog posts, and formatting text in various applications. Markdown provides a simple and intuitive way to format text without the need for complex HTML or CSS knowledge."
   ]
  },
  {
   "cell_type": "markdown",
   "metadata": {},
   "source": [
    "## Headers\n",
    "\n",
    "In Markdown, headers are used to create section headings or subheadings. Headers are denoted by using one or more hash symbols (`#`) at the beginning of a line. The number of hash symbols determines the level of the header, with one hash symbol representing the highest level and six hash symbols representing the lowest level.\n",
    "\n",
    "Here are some examples of how headers can be written in Markdown:\n",
    "\n",
    "# Heading 1\n",
    "## Heading 2\n",
    "### Heading 3\n",
    "#### Heading 4\n",
    "##### Heading 5\n",
    "###### Heading 6\n"
   ]
  },
  {
   "cell_type": "markdown",
   "metadata": {},
   "source": [
    "# Emphasizing Text\n",
    " you can use asterisks (`*`) or underscores (`_`). Here's an example:\n",
    "\n",
    "This is *italic* text.\n",
    "\n",
    "This is __bold__ text.\n"
   ]
  },
  {
   "cell_type": "markdown",
   "metadata": {},
   "source": [
    "# Creating Tables\n",
    "To create tables in Markdown, you can use vertical bars (`|`) to separate columns and hyphens (`-`) to create headers. Here's an example:\n",
    "\n",
    "| Package Name        | Version   |\n",
    "|---------------------|-----------|\n",
    "| h11                 | 0.14.0    |\n",
    "| wrapt               | 1.16.0    |\n",
    "| xyzservices         | 2023.10.1 |\n",
    "| zict                | 3.0.0     |\n"
   ]
  },
  {
   "cell_type": "markdown",
   "metadata": {},
   "source": [
    "# Including Python Code\n",
    "you can use code fences with the language identifier `python`. Here's an example:\n",
    "\n",
    "```python\n",
    "# This is a Python code block\n",
    "def hello_world():\n",
    "    print(\"Hello, world!\")\n",
    "\n",
    "hello_world()\n",
    "```"
   ]
  },
  {
   "cell_type": "markdown",
   "metadata": {},
   "source": [
    "# Creating Lists\n",
    "you can use either ordered or unordered list syntax.\n",
    "\n",
    "For an ordered list, use numbers followed by a period (`1.`, `2.`, etc.):\n",
    "\n",
    "1. Item 1\n",
    "2. Item 2\n",
    "3. Item 3\n",
    "\n",
    "To create an unordered list in Markdown, you can use hyphens (`-`), plus signs (`+`), or asterisks (`*`) followed by a space. Each item in the list should be on a new line. Here's an example:\n",
    "\n",
    "- Item 1\n",
    "- Item 2\n",
    "- Item 3\n"
   ]
  },
  {
   "cell_type": "markdown",
   "metadata": {},
   "source": [
    "# Creating Comments\n",
    "you can use the `<!-- -->` syntax. Anything placed between `<!--` and `-->` will be treated as a comment and will not be rendered in the final output. Here's an example:\n",
    "\n",
    "<!-- This is a comment in Markdown -->\n",
    "\n"
   ]
  },
  {
   "cell_type": "markdown",
   "metadata": {},
   "source": [
    "# Creating Images\n",
    "you can use the following syntax:\n",
    "\n",
    "![Efren Reyes](https://upload.wikimedia.org/wikipedia/commons/2/22/Efren_Reyes_in_the_World_9-Ball_Pool_Championship_%282%29.jpg \"Efren Reyes Pool\" )\n"
   ]
  },
  {
   "cell_type": "markdown",
   "metadata": {},
   "source": []
  },
  {
   "cell_type": "markdown",
   "metadata": {},
   "source": [
    "# Creating Links\n",
    "you can use the following syntax:\n",
    "\n",
    "[Click to go to google](https://google.com)\n"
   ]
  }
 ],
 "metadata": {
  "kernelspec": {
   "display_name": "Python 3",
   "language": "python",
   "name": "python3"
  },
  "language_info": {
   "codemirror_mode": {
    "name": "ipython",
    "version": 3
   },
   "file_extension": ".py",
   "mimetype": "text/x-python",
   "name": "python",
   "nbconvert_exporter": "python",
   "pygments_lexer": "ipython3",
   "version": "3.12.3"
  }
 },
 "nbformat": 4,
 "nbformat_minor": 2
}
